{
 "cells": [
  {
   "cell_type": "code",
   "execution_count": 143,
   "metadata": {},
   "outputs": [
    {
     "name": "stdout",
     "output_type": "stream",
     "text": [
      "Requirement already satisfied: lxml in /usr/local/lib/python2.7/site-packages\r\n",
      "Requirement already satisfied: jsonpath_ng in /usr/local/lib/python2.7/site-packages\r\n",
      "Requirement already satisfied: requests in /usr/local/lib/python2.7/site-packages\r\n",
      "Requirement already satisfied: pivottablejs in /usr/local/lib/python2.7/site-packages\r\n",
      "Requirement already satisfied: pandas in /usr/local/lib/python2.7/site-packages\r\n",
      "Requirement already satisfied: six in /usr/local/lib/python2.7/site-packages (from jsonpath_ng)\r\n",
      "Requirement already satisfied: ply in /usr/local/lib/python2.7/site-packages (from jsonpath_ng)\r\n",
      "Requirement already satisfied: decorator in /usr/local/lib/python2.7/site-packages (from jsonpath_ng)\r\n",
      "Requirement already satisfied: idna<2.7,>=2.5 in /usr/local/lib/python2.7/site-packages (from requests)\r\n",
      "Requirement already satisfied: urllib3<1.23,>=1.21.1 in /usr/local/lib/python2.7/site-packages (from requests)\r\n",
      "Requirement already satisfied: certifi>=2017.4.17 in /usr/local/lib/python2.7/site-packages (from requests)\r\n",
      "Requirement already satisfied: chardet<3.1.0,>=3.0.2 in /usr/local/lib/python2.7/site-packages (from requests)\r\n",
      "Requirement already satisfied: pytz>=2011k in /usr/local/lib/python2.7/site-packages (from pandas)\r\n",
      "Requirement already satisfied: python-dateutil in /usr/local/lib/python2.7/site-packages (from pandas)\r\n",
      "Requirement already satisfied: numpy>=1.9.0 in /usr/local/lib/python2.7/site-packages (from pandas)\r\n"
     ]
    }
   ],
   "source": [
    "!pip install lxml jsonpath_ng requests pivottablejs pandas\n",
    "from jsonpath_ng import jsonpath, parse\n",
    "import csv\n",
    "import requests\n",
    "import zipfile\n",
    "import io\n",
    "import json\n",
    "import os\n",
    "\n",
    "def get_data(uri):\n",
    "    fn = uri.split('/')[-1]\n",
    "    \n",
    "    if os.path.exists(fn):\n",
    "        print('opening {}'.format(fn))\n",
    "    else:\n",
    "        print('downloading {}'.format(fn))\n",
    "        res = requests.get(uri)\n",
    "        with open(fn,'wb') as outf:\n",
    "            print('wrote {} bytes'.format(outf.write(res.content)))\n",
    "    \n",
    "    z = zipfile.ZipFile(fn)\n",
    "    assert len(z.filelist) == 1\n",
    "    data= z.open(z.filelist[0].orig_filename).read()\n",
    "    if z.filelist[0].orig_filename.endswith('.json'):\n",
    "        data= json.loads(data)\n",
    "    z.close()\n",
    "    return data\n",
    "\n",
    "data_uris = [\n",
    "    'https://static.nvd.nist.gov/feeds/json/cve/1.0/nvdcve-1.0-2018.json.zip',\n",
    "    'https://static.nvd.nist.gov/feeds/json/cve/1.0/nvdcve-1.0-2017.json.zip',\n",
    "    'https://static.nvd.nist.gov/feeds/json/cve/1.0/nvdcve-1.0-2016.json.zip',\n",
    "    'https://static.nvd.nist.gov/feeds/json/cve/1.0/nvdcve-1.0-2015.json.zip',\n",
    "    'https://static.nvd.nist.gov/feeds/json/cve/1.0/nvdcve-1.0-2014.json.zip',\n",
    "    'https://static.nvd.nist.gov/feeds/json/cve/1.0/nvdcve-1.0-2013.json.zip',\n",
    "    'https://static.nvd.nist.gov/feeds/json/cve/1.0/nvdcve-1.0-2012.json.zip',\n",
    "    'https://static.nvd.nist.gov/feeds/json/cve/1.0/nvdcve-1.0-2011.json.zip',\n",
    "    'https://static.nvd.nist.gov/feeds/json/cve/1.0/nvdcve-1.0-2010.json.zip',\n",
    "    'https://static.nvd.nist.gov/feeds/json/cve/1.0/nvdcve-1.0-2009.json.zip',\n",
    "    'https://static.nvd.nist.gov/feeds/json/cve/1.0/nvdcve-1.0-2008.json.zip'\n",
    "]\n",
    "\n",
    "sevlist = [\n",
    "    'accessVector',\n",
    "    'accessComplexity',\n",
    "    'authentication',\n",
    "    'confidentialityImpact',\n",
    "    'integrityImpact',\n",
    "    'availabilityImpact',\n",
    "    'baseScore'\n",
    "]\n",
    "\n",
    "sev_items = map(lambda _: [_,parse('impact.baseMetricV2.cvssV2.{}'.format(_))], sevlist)\n",
    "\n",
    "columns = dict(sev_items,\n",
    "    cve_id = parse('cve.CVE_data_meta.ID'),\n",
    "    vendor = parse('cve.affects.vendor.vendor_data.[*].vendor_name'),\n",
    "    product = parse('cve.affects.vendor.vendor_data.[*].product.[*].product_data.[*].product_name'),\n",
    "    cwe = parse('cve.problemtype.problemtype_data.[*].description.[*].value'),\n",
    ")\n",
    "    \n",
    "def gpv(data, path):\n",
    "    \"\"\"get values from a path\"\"\"\n",
    "    res = path.find(data)\n",
    "    values = list(set([_ for _ in map(lambda _:_.value, res)]))\n",
    "    if len(values) == 1:\n",
    "        return values[0]\n",
    "    else:\n",
    "        return ','.join(values)\n",
    "    \n",
    "def cve_extract_fields(items):\n",
    "    for item in items:\n",
    "        yield {\n",
    "            k:gpv(item, jp) for k, jp in columns.items()\n",
    "        }"
   ]
  },
  {
   "cell_type": "code",
   "execution_count": 17,
   "metadata": {},
   "outputs": [
    {
     "name": "stdout",
     "output_type": "stream",
     "text": [
      "opening 2000.xml.zip\n"
     ]
    }
   ],
   "source": [
    "from lxml import etree, objectify\n",
    "\n",
    "\n",
    "def get_xml():\n",
    "    cwe = get_data('https://cwe.mitre.org/data/xml/views/2000.xml.zip')\n",
    "    cwe = etree.fromstring(cwe)\n",
    "    root = cwe.getroottree().getroot()\n",
    "    for elem in root.getiterator():\n",
    "        if not hasattr(elem.tag, 'find'): continue  # (1)\n",
    "        i = elem.tag.find('}')\n",
    "        if i >= 0:\n",
    "            elem.tag = elem.tag[i+1:]\n",
    "    objectify.deannotate(root, cleanup_namespaces=True)\n",
    "    return cwe\n",
    "\n",
    "cwe = get_xml()"
   ]
  },
  {
   "cell_type": "code",
   "execution_count": 18,
   "metadata": {},
   "outputs": [],
   "source": [
    "weaknesses = cwe.xpath('/Weakness_Catalog/Weaknesses/*')\n",
    "categories = cwe.xpath('/Weakness_Catalog/Categories/*')\n",
    "# views\n",
    "# external references\n",
    "cwe_cats = {}\n",
    "for c in categories:\n",
    "    d = {\n",
    "      \"name\": None,\n",
    "      \"id\": None,\n",
    "      \"parents\": [],\n",
    "      \"platforms\": None,\n",
    "      \"modes\": None,\n",
    "      \"consequence\": None\n",
    "     }\n",
    "    for k,v in c.items():\n",
    "        if k.lower() in d:\n",
    "            if k == 'ID':\n",
    "                d[k.lower()]=int(v)\n",
    "            else:\n",
    "                d[k.lower()]=v\n",
    "    cwe_cats[d['id']] = d\n",
    "        "
   ]
  },
  {
   "cell_type": "code",
   "execution_count": 8,
   "metadata": {},
   "outputs": [
    {
     "name": "stdout",
     "output_type": "stream",
     "text": [
      "opening nvdcve-1.0-2018.json.zip\n",
      "opening nvdcve-1.0-2017.json.zip\n",
      "opening nvdcve-1.0-2016.json.zip\n",
      "opening nvdcve-1.0-2015.json.zip\n",
      "opening nvdcve-1.0-2014.json.zip\n",
      "opening nvdcve-1.0-2013.json.zip\n",
      "opening nvdcve-1.0-2012.json.zip\n",
      "opening nvdcve-1.0-2011.json.zip\n",
      "opening nvdcve-1.0-2010.json.zip\n",
      "opening nvdcve-1.0-2009.json.zip\n",
      "opening nvdcve-1.0-2008.json.zip\n",
      "opening 2000.csv.zip\n",
      "730 CWEs read\n"
     ]
    }
   ],
   "source": [
    "CVEs = []\n",
    "for uri in data_uris:\n",
    "    CVEs.extend(get_data(uri)['CVE_Items'])\n",
    "\n",
    "\n",
    "cve_out = []\n",
    "for d in filter(lambda _: _['cwe'], cve_extract_fields(CVEs)):\n",
    "    cve_out.append(d)\n",
    "\n",
    "with open('CVEs.json', 'w') as outf:\n",
    "    json.dump(cve_out, outf, indent=1)\n",
    "    \n",
    "CWEs = []\n",
    "\n",
    "cwe = get_data('https://cwe.mitre.org/data/csv/2000.csv.zip')\n",
    "for line in csv.DictReader(cwe.decode('utf-8').split('\\n')):\n",
    "    CWEs.append(dict(line))\n",
    "    \n",
    "print('{} CWEs read'.format(len(CWEs)))\n",
    "\n",
    "\n",
    "\n",
    "def parse_with_fm(cwe, field, filters, maps):\n",
    "    rws = cwe[field].split('::')\n",
    "    for f in [lambda _:_] + filters:\n",
    "        rws = filter(f, rws)\n",
    "    \n",
    "    for m in maps:\n",
    "        rws = map(m, rws)\n",
    "    \n",
    "    rws = filter(lambda _:_, rws)\n",
    "    \n",
    "    return ', '.join(list(set(rws)))\n",
    "\n",
    "def get_f12(f):\n",
    "    f = f.split(':')\n",
    "    if f[2].endswith('PREVALENCE'):\n",
    "        return f[0].split(' ')[0] +'-' +f[1]\n",
    "    \n",
    "    return '-'.join(f[1:3])\n",
    "\n",
    "def get_modes(f):\n",
    "    m = f.split(':')\n",
    "    try:\n",
    "        return m[m.index('PHASE')+1]\n",
    "    except:\n",
    "        return ''\n",
    "\n",
    "def get_consequences(f):\n",
    "    return f.split(':')[1]\n",
    "    \n",
    "cwe_fields = dict(\n",
    "    name=lambda cwe:cwe['Name'],\n",
    "    id=lambda cwe:cwe['ID'],\n",
    "    parents= \n",
    "    lambda cwe: parse_with_fm(cwe, 'Related Weaknesses', filters=[\n",
    "        lambda _:_.startswith('NATURE:ChildOf')\n",
    "    ], maps=[\n",
    "        lambda _:_.split(':')[3]\n",
    "    ]),\n",
    "    platforms = lambda cwe: parse_with_fm(cwe, 'Applicable Platforms',filters=[],maps=[get_f12]),\n",
    "    modes=lambda cwe:parse_with_fm(cwe, 'Modes Of Introduction', filters=[],maps=[get_modes]),\n",
    "    consequence=lambda cwe:parse_with_fm(cwe, 'Common Consequences',filters=[], maps=[get_consequences])\n",
    ")\n",
    "    \n",
    "def cwe_extract_details(items):\n",
    "    \n",
    "    for item in items:\n",
    "        yield {\n",
    "            k:fn(item) for k, fn in cwe_fields.items()\n",
    "        }\n",
    "    \n",
    "cwe_out=[]\n",
    "for d in cwe_extract_details(CWEs):\n",
    "    cwe_out.append(d)"
   ]
  },
  {
   "cell_type": "code",
   "execution_count": 10,
   "metadata": {},
   "outputs": [],
   "source": [
    "with open('CWEs.json', 'w') as outf:\n",
    "    json.dump( cwe_out, outf, indent=1)"
   ]
  },
  {
   "cell_type": "code",
   "execution_count": 63,
   "metadata": {},
   "outputs": [],
   "source": [
    "cwes = {}\n",
    "\n",
    "for cwe in cwe_out + list(cwe_cats.values()):\n",
    "    i = int(cwe['id'])\n",
    "    cwes[i] = cwe\n",
    "    cwe['children']= []\n",
    "    cwe['cves'] = 0\n",
    "    cwe['score'] = 0.0\n",
    "\n",
    "for i, cwe in cwes.items():\n",
    "    if not cwe['parents']:\n",
    "        continue\n",
    "    for p in map(int, cwe['parents'].split(',')):\n",
    "        cwes[p]['children'].append(cwe)"
   ]
  },
  {
   "cell_type": "code",
   "execution_count": 64,
   "metadata": {},
   "outputs": [
    {
     "data": {
      "text/plain": [
       "{'children': [],\n",
       " 'consequence': None,\n",
       " 'cves': 0,\n",
       " 'id': 399,\n",
       " 'modes': None,\n",
       " 'name': 'Resource Management Errors',\n",
       " 'parents': [],\n",
       " 'platforms': None,\n",
       " 'score': 0.0}"
      ]
     },
     "execution_count": 64,
     "metadata": {},
     "output_type": "execute_result"
    }
   ],
   "source": [
    "cwes[399]"
   ]
  },
  {
   "cell_type": "code",
   "execution_count": 113,
   "metadata": {
    "scrolled": true
   },
   "outputs": [],
   "source": [
    "import collections\n",
    "years_with = collections.Counter()\n",
    "years_without = collections.Counter()\n",
    "\n",
    "def get_yr(cve):\n",
    "    return cve[4:8]\n",
    "\n",
    "for cve in cve_out:\n",
    "    year = int(get_yr(cve['cve_id']))\n",
    "    for cwe in cve['cwe'].split(','):\n",
    "        try:\n",
    "            cwe = int(cwe.split('-')[1])\n",
    "        except:\n",
    "            years_without[year]+= 1\n",
    "            continue\n",
    "        cwes[cwe]['cves'] += 1\n",
    "        try:\n",
    "            cwes[cwe]['score'] += float(cve['baseScore'])\n",
    "        except ValueError:\n",
    "            continue\n",
    "        years_with[year]+= 1\n",
    "zeros = []\n",
    "for cwe in cwes.keys():\n",
    "    try:\n",
    "        cwes[cwe]['average'] = cwes[cwe]['score']/cwes[cwe]['cves']\n",
    "    except ZeroDivisionError:\n",
    "        zeros.append(cwe)\n",
    "for z in set(zeros):\n",
    "    if z in cwes:\n",
    "        del cwes[z]"
   ]
  },
  {
   "cell_type": "code",
   "execution_count": 100,
   "metadata": {},
   "outputs": [
    {
     "name": "stdout",
     "output_type": "stream",
     "text": [
      "Year\tProportion of CVEs with a CWE listed\n",
      "2018\t98%\n",
      "2017\t99%\n",
      "2016\t87%\n",
      "2015\t83%\n",
      "2014\t86%\n",
      "2013\t80%\n",
      "2012\t79%\n",
      "2011\t83%\n",
      "2010\t79%\n",
      "2009\t85%\n",
      "2008\t89%\n"
     ]
    }
   ],
   "source": [
    "print('Year\\tProportion of CVEs with a CWE listed')\n",
    "for year in years_with.keys():\n",
    "    total = float(years_with[year])/(years_without[year] + years_with[year])\n",
    "    print('{}\\t{:.0%}'.format(year,total))"
   ]
  },
  {
   "cell_type": "code",
   "execution_count": 164,
   "metadata": {
    "scrolled": false
   },
   "outputs": [
    {
     "name": "stdout",
     "output_type": "stream",
     "text": [
      "00  1,151,636  Avg: 8 Improper Restriction of Operations within the Bounds of a Memory Buffer\n",
      "01    588,708  Avg: 6 Permissions, Privileges, and Access Controls\n",
      "02    515,422  Avg: 4 Improper Neutralization of Input During Web Page Generation ('Cross-site Scripting')\n",
      "03    507,678  Avg: 7 Improper Neutralization of Special Elements used in an SQL Command ('SQL Injection')\n",
      "04    487,669  Avg: 6 Improper Input Validation\n",
      "05    312,977  Avg: 7 Resource Management Errors\n",
      "06    309,620  Avg: 4 Information Exposure\n",
      "07    202,780  Avg: 8 Improper Control of Generation of Code ('Code Injection')\n",
      "08    196,929  Avg: 5 Cryptographic Issues\n",
      "09    195,196  Avg: 6 Improper Access Control\n",
      "10    190,622  Avg: 6 Improper Limitation of a Pathname to a Restricted Directory ('Path Traversal')\n",
      "11    158,302  Avg: 7 Cross-Site Request Forgery (CSRF)\n",
      "12    139,428  Avg: 7 Numeric Errors\n",
      "13    118,898  Avg: 7 Improper Authentication\n",
      "14     68,828  Avg: 6 Credentials Management\n",
      "15     55,619  Avg: 8 Use After Free\n",
      "16     47,763  Avg: 5 Out-of-bounds Read\n",
      "17     47,619  Avg: 5 7PK - Security Features\n",
      "18     44,189  Avg: 6 Concurrent Execution using Shared Resource with Improper Synchronization ('Race Condition')\n",
      "19     42,330  Avg: 8 Improper Neutralization of Special Elements used in a Command ('Command Injection')\n"
     ]
    }
   ],
   "source": [
    "top=20\n",
    "\n",
    "for i, cwe in enumerate(sorted(cwes.values(), key=lambda k:int(k['score']), reverse=True)[:top]):\n",
    "    print('{:02.0f} {score:>10,.0f}  Avg: {average:.0f} {name}'.format(i, **cwe))\n",
    "    "
   ]
  }
 ],
 "metadata": {
  "kernelspec": {
   "display_name": "Python 3",
   "language": "python",
   "name": "python3"
  },
  "language_info": {
   "codemirror_mode": {
    "name": "ipython",
    "version": 3
   },
   "file_extension": ".py",
   "mimetype": "text/x-python",
   "name": "python",
   "nbconvert_exporter": "python",
   "pygments_lexer": "ipython3",
   "version": "3.6.4"
  }
 },
 "nbformat": 4,
 "nbformat_minor": 2
}
