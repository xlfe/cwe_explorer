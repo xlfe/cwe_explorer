{
 "cells": [
  {
   "cell_type": "markdown",
   "metadata": {},
   "source": [
    "## CVE and CWE Explorer"
   ]
  },
  {
   "cell_type": "code",
   "execution_count": 47,
   "metadata": {},
   "outputs": [
    {
     "name": "stdout",
     "output_type": "stream",
     "text": [
      "Requirement already satisfied: lxml in /usr/local/lib/python2.7/site-packages\n",
      "Requirement already satisfied: jsonpath_ng in /usr/local/lib/python2.7/site-packages\n",
      "Requirement already satisfied: requests in /usr/local/lib/python2.7/site-packages\n",
      "Requirement already satisfied: pandas in /usr/local/lib/python2.7/site-packages\n",
      "Requirement already satisfied: six in /usr/local/lib/python2.7/site-packages (from jsonpath_ng)\n",
      "Requirement already satisfied: ply in /usr/local/lib/python2.7/site-packages (from jsonpath_ng)\n",
      "Requirement already satisfied: decorator in /usr/local/lib/python2.7/site-packages (from jsonpath_ng)\n",
      "Requirement already satisfied: idna<2.7,>=2.5 in /usr/local/lib/python2.7/site-packages (from requests)\n",
      "Requirement already satisfied: urllib3<1.23,>=1.21.1 in /usr/local/lib/python2.7/site-packages (from requests)\n",
      "Requirement already satisfied: certifi>=2017.4.17 in /usr/local/lib/python2.7/site-packages (from requests)\n",
      "Requirement already satisfied: chardet<3.1.0,>=3.0.2 in /usr/local/lib/python2.7/site-packages (from requests)\n",
      "Requirement already satisfied: pytz>=2011k in /usr/local/lib/python2.7/site-packages (from pandas)\n",
      "Requirement already satisfied: python-dateutil in /usr/local/lib/python2.7/site-packages (from pandas)\n",
      "Requirement already satisfied: numpy>=1.9.0 in /usr/local/lib/python2.7/site-packages (from pandas)\n"
     ]
    }
   ],
   "source": [
    "!pip install lxml jsonpath_ng requests pandas\n",
    "from jsonpath_ng import jsonpath, parse\n",
    "import csv, requests, zipfile, re, io, json, os, random, collections, copy"
   ]
  },
  {
   "cell_type": "code",
   "execution_count": 2,
   "metadata": {},
   "outputs": [],
   "source": [
    "def get_data(uri):\n",
    "    fn = uri.split('/')[-1]\n",
    "    \n",
    "    if os.path.exists(fn):\n",
    "        print('opening {}'.format(fn))\n",
    "    else:\n",
    "        print('downloading {}'.format(fn))\n",
    "        res = requests.get(uri)\n",
    "        with open(fn,'wb') as outf:\n",
    "            print('wrote {} bytes'.format(outf.write(res.content)))\n",
    "    \n",
    "    z = zipfile.ZipFile(fn)\n",
    "    assert len(z.filelist) == 1\n",
    "    data= z.open(z.filelist[0].orig_filename).read()\n",
    "    if z.filelist[0].orig_filename.endswith('.json'):\n",
    "        data= json.loads(data)\n",
    "    z.close()\n",
    "    return data\n",
    "\n",
    "data_uris = [\n",
    "    'https://static.nvd.nist.gov/feeds/json/cve/1.0/nvdcve-1.0-2018.json.zip',\n",
    "    'https://static.nvd.nist.gov/feeds/json/cve/1.0/nvdcve-1.0-2017.json.zip',\n",
    "    'https://static.nvd.nist.gov/feeds/json/cve/1.0/nvdcve-1.0-2016.json.zip',\n",
    "    'https://static.nvd.nist.gov/feeds/json/cve/1.0/nvdcve-1.0-2015.json.zip',\n",
    "    'https://static.nvd.nist.gov/feeds/json/cve/1.0/nvdcve-1.0-2014.json.zip',\n",
    "    'https://static.nvd.nist.gov/feeds/json/cve/1.0/nvdcve-1.0-2013.json.zip',\n",
    "    'https://static.nvd.nist.gov/feeds/json/cve/1.0/nvdcve-1.0-2012.json.zip',\n",
    "    'https://static.nvd.nist.gov/feeds/json/cve/1.0/nvdcve-1.0-2011.json.zip',\n",
    "    'https://static.nvd.nist.gov/feeds/json/cve/1.0/nvdcve-1.0-2010.json.zip',\n",
    "    'https://static.nvd.nist.gov/feeds/json/cve/1.0/nvdcve-1.0-2009.json.zip',\n",
    "    'https://static.nvd.nist.gov/feeds/json/cve/1.0/nvdcve-1.0-2008.json.zip'\n",
    "]\n",
    "\n",
    "sevlist = [\n",
    "    'accessVector',\n",
    "    'accessComplexity',\n",
    "    'authentication',\n",
    "    'confidentialityImpact',\n",
    "    'integrityImpact',\n",
    "    'availabilityImpact',\n",
    "    'baseScore'\n",
    "]\n",
    "\n",
    "sev_items = map(lambda _: [_,parse('impact.baseMetricV2.cvssV2.{}'.format(_))], sevlist)\n",
    "\n",
    "columns = dict(sev_items,\n",
    "    cve_id = parse('cve.CVE_data_meta.ID'),\n",
    "    vendor = parse('cve.affects.vendor.vendor_data.[*].vendor_name'),\n",
    "    product = parse('cve.affects.vendor.vendor_data.[*].product.[*].product_data.[*].product_name'),\n",
    "    cwe = parse('cve.problemtype.problemtype_data.[*].description.[*].value')\n",
    ")\n",
    "    \n",
    "def gpv(data, path):\n",
    "    \"\"\"get values from a path\"\"\"\n",
    "    res = path.find(data)\n",
    "    try:\n",
    "        values = list(set([_ for _ in map(lambda _:_.value, res)]))\n",
    "    except:\n",
    "        print(res)\n",
    "        raise\n",
    "    if len(values) == 1:\n",
    "        return values[0]\n",
    "    else:\n",
    "        return ','.join(values)\n",
    "    \n",
    "def cve_extract_fields(items):\n",
    "    for item in items:\n",
    "        yield {\n",
    "            k:gpv(item, jp) for k, jp in columns.items()\n",
    "        }"
   ]
  },
  {
   "cell_type": "code",
   "execution_count": 3,
   "metadata": {},
   "outputs": [
    {
     "name": "stdout",
     "output_type": "stream",
     "text": [
      "opening nvdcve-1.0-2018.json.zip\n",
      "opening nvdcve-1.0-2017.json.zip\n",
      "opening nvdcve-1.0-2016.json.zip\n",
      "opening nvdcve-1.0-2015.json.zip\n",
      "opening nvdcve-1.0-2014.json.zip\n",
      "opening nvdcve-1.0-2013.json.zip\n",
      "opening nvdcve-1.0-2012.json.zip\n",
      "opening nvdcve-1.0-2011.json.zip\n",
      "opening nvdcve-1.0-2010.json.zip\n",
      "opening nvdcve-1.0-2009.json.zip\n",
      "opening nvdcve-1.0-2008.json.zip\n"
     ]
    }
   ],
   "source": [
    "CVEs = []\n",
    "\n",
    "for uri in data_uris:\n",
    "    CVEs.extend(get_data(uri)['CVE_Items'])\n",
    "\n",
    "#Just those CVEs with CWEs listed\n",
    "CVEs_with_CWEs = list(filter(lambda _: _['cwe'], cve_extract_fields(CVEs)))"
   ]
  },
  {
   "cell_type": "markdown",
   "metadata": {},
   "source": [
    "#### An example CVE"
   ]
  },
  {
   "cell_type": "code",
   "execution_count": 4,
   "metadata": {
    "scrolled": false
   },
   "outputs": [
    {
     "name": "stdout",
     "output_type": "stream",
     "text": [
      "{\n",
      " \"cve\": {\n",
      "  \"data_type\": \"CVE\",\n",
      "  \"data_format\": \"MITRE\",\n",
      "  \"data_version\": \"4.0\",\n",
      "  \"CVE_data_meta\": {\n",
      "   \"ID\": \"CVE-2015-2754\",\n",
      "   \"ASSIGNER\": \"cve@mitre.org\"\n",
      "  },\n",
      "  \"affects\": {\n",
      "   \"vendor\": {\n",
      "    \"vendor_data\": [\n",
      "     {\n",
      "      \"vendor_name\": \"gaia-gis\",\n",
      "      \"product\": {\n",
      "       \"product_data\": [\n",
      "        {\n",
      "         \"product_name\": \"freexl\",\n",
      "         \"version\": {\n",
      "          \"version_data\": [\n",
      "           {\n",
      "            \"version_value\": \"1.0.0h\"\n",
      "           }\n",
      "          ]\n",
      "         }\n",
      "        }\n",
      "       ]\n",
      "      }\n",
      "     },\n",
      "     {\n",
      "      \"vendor_name\": \"debian\",\n",
      "      \"product\": {\n",
      "       \"product_data\": [\n",
      "        {\n",
      "         \"product_name\": \"debian_linux\",\n",
      "         \"version\": {\n",
      "          \"version_data\": [\n",
      "           {\n",
      "            \"version_value\": \"7.0\"\n",
      "           }\n",
      "          ]\n",
      "         }\n",
      "        }\n",
      "       ]\n",
      "      }\n",
      "     }\n",
      "    ]\n",
      "   }\n",
      "  },\n",
      "  \"problemtype\": {\n",
      "   \"problemtype_data\": [\n",
      "    {\n",
      "     \"description\": [\n",
      "      {\n",
      "       \"lang\": \"en\",\n",
      "       \"value\": \"CWE-20\"\n",
      "      }\n",
      "     ]\n",
      "    }\n",
      "   ]\n",
      "  },\n",
      "  \"references\": {\n",
      "   \"reference_data\": [\n",
      "    {\n",
      "     \"url\": \"http://www.debian.org/security/2015/dsa-3208\"\n",
      "    },\n",
      "    {\n",
      "     \"url\": \"http://www.openwall.com/lists/oss-security/2015/03/25/1\"\n",
      "    },\n",
      "    {\n",
      "     \"url\": \"http://www.openwall.com/lists/oss-security/2015/03/27/1\"\n",
      "    },\n",
      "    {\n",
      "     \"url\": \"http://www.securityfocus.com/bid/73330\"\n",
      "    },\n",
      "    {\n",
      "     \"url\": \"https://security.gentoo.org/glsa/201606-15\"\n",
      "    },\n",
      "    {\n",
      "     \"url\": \"https://www.gaia-gis.it/fossil/freexl/fdiff?v1=2e167b337481dda3&v2=61618ce51a9b0c15&sbs=1\"\n",
      "    }\n",
      "   ]\n",
      "  },\n",
      "  \"description\": {\n",
      "   \"description_data\": [\n",
      "    {\n",
      "     \"lang\": \"en\",\n",
      "     \"value\": \"FreeXL before 1.0.0i allows remote attackers to cause a denial of service (stack corruption) and possibly execute arbitrary code via a crafted workbook, related to a \\\"premature EOF.\\\"\"\n",
      "    }\n",
      "   ]\n",
      "  }\n",
      " },\n",
      " \"configurations\": {\n",
      "  \"CVE_data_version\": \"4.0\",\n",
      "  \"nodes\": [\n",
      "   {\n",
      "    \"operator\": \"OR\",\n",
      "    \"cpe\": [\n",
      "     {\n",
      "      \"vulnerable\": true,\n",
      "      \"cpe22Uri\": \"cpe:/a:gaia-gis:freexl\",\n",
      "      \"cpe23Uri\": \"cpe:2.3:a:gaia-gis:freexl:*:*:*:*:*:*:*:*\",\n",
      "      \"versionEndIncluding\": \"1.0.0h\"\n",
      "     }\n",
      "    ]\n",
      "   },\n",
      "   {\n",
      "    \"operator\": \"OR\",\n",
      "    \"cpe\": [\n",
      "     {\n",
      "      \"vulnerable\": true,\n",
      "      \"cpe22Uri\": \"cpe:/o:debian:debian_linux:7.0\",\n",
      "      \"cpe23Uri\": \"cpe:2.3:o:debian:debian_linux:7.0:*:*:*:*:*:*:*\"\n",
      "     }\n",
      "    ]\n",
      "   }\n",
      "  ]\n",
      " },\n",
      " \"impact\": {\n",
      "  \"baseMetricV2\": {\n",
      "   \"cvssV2\": {\n",
      "    \"version\": \"2.0\",\n",
      "    \"vectorString\": \"(AV:N/AC:M/Au:N/C:P/I:P/A:P)\",\n",
      "    \"accessVector\": \"NETWORK\",\n",
      "    \"accessComplexity\": \"MEDIUM\",\n",
      "    \"authentication\": \"NONE\",\n",
      "    \"confidentialityImpact\": \"PARTIAL\",\n",
      "    \"integrityImpact\": \"PARTIAL\",\n",
      "    \"availabilityImpact\": \"PARTIAL\",\n",
      "    \"baseScore\": 6.8\n",
      "   },\n",
      "   \"severity\": \"MEDIUM\",\n",
      "   \"exploitabilityScore\": 8.6,\n",
      "   \"impactScore\": 6.4,\n",
      "   \"obtainAllPrivilege\": false,\n",
      "   \"obtainUserPrivilege\": false,\n",
      "   \"obtainOtherPrivilege\": false,\n",
      "   \"userInteractionRequired\": true\n",
      "  }\n",
      " },\n",
      " \"publishedDate\": \"2015-03-31T14:59Z\",\n",
      " \"lastModifiedDate\": \"2017-11-08T02:29Z\"\n",
      "}\n"
     ]
    }
   ],
   "source": [
    "print(json.dumps(random.choice(CVEs), indent=1))"
   ]
  },
  {
   "cell_type": "markdown",
   "metadata": {},
   "source": [
    "### We're interested in CVEs related to wireless technology"
   ]
  },
  {
   "cell_type": "code",
   "execution_count": 5,
   "metadata": {},
   "outputs": [],
   "source": [
    "wireless_terms = {_:re.compile(r'\\b{}\\b'.format(_)) for _ in [\n",
    "    'wireless',\n",
    "    'bluetooth',\n",
    "    'zigbee',\n",
    "    'radio',\n",
    "    'wifi',\n",
    "    'wimax',\n",
    "    'access point',\n",
    "    'cellular',\n",
    "    'lte',\n",
    "    'gsm',\n",
    "    'wap',\n",
    "    '802.11',\n",
    "    'GPRS',\n",
    "    'router'\n",
    "]}\n",
    "\n",
    "CVEs_wireless = []\n",
    "tech_counter = collections.Counter()\n",
    "\n",
    "for cve in CVEs:\n",
    "    _ = json.dumps(cve)\n",
    "    match = False\n",
    "    for term, r in wireless_terms.items():\n",
    "        if r.search(_, re.IGNORECASE) != None:\n",
    "            match = True\n",
    "            tech_counter[term] += 1\n",
    "    \n",
    "    if match:\n",
    "        CVEs_wireless.append(cve)\n"
   ]
  },
  {
   "cell_type": "code",
   "execution_count": 6,
   "metadata": {},
   "outputs": [
    {
     "name": "stdout",
     "output_type": "stream",
     "text": [
      "Wireless relarted vulnerabilities account for 544 (0.75%) out of 73,005 total CVEs\n",
      "\n",
      "\n",
      "Count of term frequency (multiple terms can appear in the same CVE)\n",
      "       8  wap\n",
      "     238  router\n",
      "      41  radio\n",
      "     133  wireless\n",
      "      33  802.11\n",
      "      39  wifi\n",
      "      39  bluetooth\n",
      "       2  gsm\n",
      "       9  GPRS\n",
      "      32  access point\n",
      "      13  lte\n",
      "       1  cellular\n"
     ]
    }
   ],
   "source": [
    "print('Wireless relarted vulnerabilities account for {} ({:.02f}%) out of {:,} total CVEs'.format(\n",
    "    len(CVEs_wireless),\n",
    "    len(CVEs_wireless)/float(len(CVEs))*100,\n",
    "    len(CVEs)\n",
    "))\n",
    " \n",
    "print('\\n\\nCount of term frequency (multiple terms can appear in the same CVE)')\n",
    "for term, count in tech_counter.items():\n",
    "    print('{:>8,}  {}'.format(count, term))"
   ]
  },
  {
   "cell_type": "markdown",
   "metadata": {},
   "source": [
    "### The next section extracts Common Weakness Enumerations - Categories\n",
    "\n",
    "We use the XML source because the JSON/CSV sources are incomplete (they don't have categories)"
   ]
  },
  {
   "cell_type": "code",
   "execution_count": 7,
   "metadata": {},
   "outputs": [
    {
     "name": "stdout",
     "output_type": "stream",
     "text": [
      "opening 2000.xml.zip\n"
     ]
    }
   ],
   "source": [
    "from lxml import etree, objectify\n",
    "\n",
    "def get_xml():\n",
    "    cwe = get_data('https://cwe.mitre.org/data/xml/views/2000.xml.zip')\n",
    "    cwe = etree.fromstring(cwe)\n",
    "    root = cwe.getroottree().getroot()\n",
    "    for elem in root.getiterator():\n",
    "        if not hasattr(elem.tag, 'find'): continue  # (1)\n",
    "        i = elem.tag.find('}')\n",
    "        if i >= 0:\n",
    "            elem.tag = elem.tag[i+1:]\n",
    "    objectify.deannotate(root, cleanup_namespaces=True)\n",
    "    return cwe\n",
    "\n",
    "cwe_xml = get_xml()"
   ]
  },
  {
   "cell_type": "code",
   "execution_count": 8,
   "metadata": {},
   "outputs": [],
   "source": [
    "weaknesses = cwe_xml.xpath('/Weakness_Catalog/Weaknesses/*')\n",
    "categories = cwe_xml.xpath('/Weakness_Catalog/Categories/*')\n",
    "# views\n",
    "# external references\n",
    "cwe_cats = {}\n",
    "for c in categories:\n",
    "    d = {\n",
    "      \"name\": None,\n",
    "      \"id\": None,\n",
    "      \"parents\": [],\n",
    "      \"platforms\": None,\n",
    "      \"modes\": None,\n",
    "      \"consequence\": None\n",
    "     }\n",
    "    for k,v in c.items():\n",
    "        if k.lower() in d:\n",
    "            if k == 'ID':\n",
    "                d[k.lower()]=int(v)\n",
    "            else:\n",
    "                d[k.lower()]=v\n",
    "    cwe_cats[d['id']] = d"
   ]
  },
  {
   "cell_type": "markdown",
   "metadata": {},
   "source": [
    "### We get the rest of the CWEs from the CSV source"
   ]
  },
  {
   "cell_type": "code",
   "execution_count": 9,
   "metadata": {},
   "outputs": [
    {
     "name": "stdout",
     "output_type": "stream",
     "text": [
      "opening 2000.csv.zip\n",
      "730 CWEs read\n"
     ]
    }
   ],
   "source": [
    "CWEs_raw = []\n",
    "\n",
    "cwe_csv = get_data('https://cwe.mitre.org/data/csv/2000.csv.zip')\n",
    "for line in csv.DictReader(cwe_csv.decode('utf-8').split('\\n')):\n",
    "    CWEs_raw.append(dict(line))\n",
    "    \n",
    "print('{} CWEs read'.format(len(CWEs_raw)))\n",
    "\n",
    "def parse_with_fm(cwe, field, filters, maps):\n",
    "    rws = cwe[field].split('::')\n",
    "    for f in [lambda _:_] + filters:\n",
    "        rws = filter(f, rws)\n",
    "    \n",
    "    for m in maps:\n",
    "        rws = map(m, rws)\n",
    "    \n",
    "    rws = filter(lambda _:_, rws)\n",
    "    \n",
    "    return ', '.join(list(set(rws)))\n",
    "\n",
    "def get_f12(f):\n",
    "    f = f.split(':')\n",
    "    if f[2].endswith('PREVALENCE'):\n",
    "        return f[0].split(' ')[0] +'-' +f[1]\n",
    "    \n",
    "    return '-'.join(f[1:3])\n",
    "\n",
    "def get_modes(f):\n",
    "    m = f.split(':')\n",
    "    try:\n",
    "        return m[m.index('PHASE')+1]\n",
    "    except:\n",
    "        return ''\n",
    "\n",
    "def get_consequences(f):\n",
    "    return f.split(':')[1]\n",
    "    \n",
    "cwe_fields = dict(\n",
    "    name=lambda cwe:cwe['Name'],\n",
    "    id=lambda cwe:cwe['ID'],\n",
    "    parents= \n",
    "    lambda cwe: parse_with_fm(cwe, 'Related Weaknesses', filters=[\n",
    "        lambda _:_.startswith('NATURE:ChildOf')\n",
    "    ], maps=[\n",
    "        lambda _:_.split(':')[3]\n",
    "    ]),\n",
    "    platforms = lambda cwe: parse_with_fm(cwe, 'Applicable Platforms',filters=[],maps=[get_f12]),\n",
    "    modes=lambda cwe:parse_with_fm(cwe, 'Modes Of Introduction', filters=[],maps=[get_modes]),\n",
    "    consequence=lambda cwe:parse_with_fm(cwe, 'Common Consequences',filters=[], maps=[get_consequences])\n",
    ")\n",
    "    \n",
    "def cwe_extract_details(items):\n",
    "    \n",
    "    for item in items:\n",
    "        yield {\n",
    "            k:fn(item) for k, fn in cwe_fields.items()\n",
    "        }\n",
    "    \n",
    "CWEs_parsed = list(cwe_extract_details(CWEs_raw))"
   ]
  },
  {
   "cell_type": "markdown",
   "metadata": {},
   "source": [
    "### Then join them with the CWE Categories from the XML"
   ]
  },
  {
   "cell_type": "code",
   "execution_count": 48,
   "metadata": {},
   "outputs": [],
   "source": [
    "CWEs = {}\n",
    "\n",
    "for cwe in CWEs_parsed + list(cwe_cats.values()):\n",
    "    cwe = copy.deepcopy(cwe)\n",
    "    i = int(cwe['id'])\n",
    "    cwe['children']= []\n",
    "    cwe['cves'] = 0\n",
    "    cwe['score'] = 0.0\n",
    "    CWEs[i] = cwe\n",
    "\n",
    "for i, cwe in CWEs.items():\n",
    "    if not cwe['parents']:\n",
    "        continue\n",
    "    for p in map(int, cwe['parents'].split(',')):\n",
    "        CWEs[p]['children'].append(cwe)"
   ]
  },
  {
   "cell_type": "markdown",
   "metadata": {},
   "source": [
    "### An example from CWEs"
   ]
  },
  {
   "cell_type": "code",
   "execution_count": 52,
   "metadata": {
    "scrolled": false
   },
   "outputs": [
    {
     "name": "stdout",
     "output_type": "stream",
     "text": [
      "{\n",
      " \"name\": \"Missing Initialization of Resource\",\n",
      " \"id\": \"909\",\n",
      " \"parents\": \"665\",\n",
      " \"platforms\": \"LANGUAGE CLASS-Language-Independent\",\n",
      " \"modes\": \"Implementation\",\n",
      " \"consequence\": \"Confidentiality, Availability\",\n",
      " \"children\": [\n",
      "  {\n",
      "   \"name\": \"Missing Initialization of a Variable\",\n",
      "   \"id\": \"456\",\n",
      "   \"parents\": \"909\",\n",
      "   \"platforms\": \"LANGUAGE CLASS-Language-Independent\",\n",
      "   \"modes\": \"Implementation\",\n",
      "   \"consequence\": \"Integrity\",\n",
      "   \"children\": [],\n",
      "   \"cves\": 0,\n",
      "   \"score\": 0.0\n",
      "  }\n",
      " ],\n",
      " \"cves\": 0,\n",
      " \"score\": 0.0\n",
      "}\n"
     ]
    }
   ],
   "source": [
    "print(json.dumps(random.choice(CWEs), indent=1))"
   ]
  },
  {
   "cell_type": "markdown",
   "metadata": {},
   "source": [
    "### Lets weight CWEs by the CVEs that list them\n",
    "\n",
    "For every CVE with one or more CWEs listed, we add the 'Score' to the associated CWE"
   ]
  },
  {
   "cell_type": "code",
   "execution_count": 67,
   "metadata": {
    "scrolled": true
   },
   "outputs": [
    {
     "name": "stdout",
     "output_type": "stream",
     "text": [
      "989\n"
     ]
    }
   ],
   "source": [
    "def get_yr(cve):\n",
    "    return cve[4:8]\n",
    "\n",
    "def make_cwe_graph(CWEs_source,CVEs):\n",
    "    \n",
    "    CWEs = copy.deepcopy(CWEs_source)\n",
    "    print(len(CWEs))\n",
    "\n",
    "    for cve in CVEs:\n",
    "        year = int(get_yr(cve['cve_id']))\n",
    "        for cwe in cve['cwe'].split(','):\n",
    "            for cweid in cwe.split('-'):\n",
    "                try:\n",
    "                    cwe_id = int(cweid)\n",
    "                    CWEs[cwe_id]['cves'] += 1\n",
    "                    CWEs[cwe_id]['score'] += float(cve['baseScore'])\n",
    "                except ValueError:\n",
    "                    pass\n",
    "\n",
    "    # And calculate the average too        \n",
    "    zeros = []\n",
    "    for cwe in CWEs.keys():\n",
    "        try:\n",
    "            CWEs[cwe]['average'] = CWEs[cwe]['score']/CWEs[cwe]['cves']\n",
    "        except ZeroDivisionError:\n",
    "            zeros.append(cwe)\n",
    "\n",
    "    # delete CWEs with no associated CVEs!        \n",
    "    for z in set(zeros):\n",
    "        if z in CWEs:\n",
    "            del CWEs[z]\n",
    "            \n",
    "    return CWEs\n",
    "\n",
    "# print(random.choice(CWEs))\n",
    "\n",
    "CWEs_weighted = make_cwe_graph(CWEs, CVEs_with_CWEs)"
   ]
  },
  {
   "cell_type": "markdown",
   "metadata": {},
   "source": [
    "### We end up with a CWE object like this"
   ]
  },
  {
   "cell_type": "code",
   "execution_count": 58,
   "metadata": {
    "scrolled": false
   },
   "outputs": [
    {
     "name": "stdout",
     "output_type": "stream",
     "text": [
      "{\n",
      " \"name\": \"Out-of-bounds Read\",\n",
      " \"id\": \"125\",\n",
      " \"parents\": \"119\",\n",
      " \"platforms\": \"LANGUAGE-C++, LANGUAGE-C\",\n",
      " \"modes\": \"Implementation\",\n",
      " \"consequence\": \"Confidentiality\",\n",
      " \"children\": [\n",
      "  {\n",
      "   \"name\": \"Buffer Over-read\",\n",
      "   \"id\": \"126\",\n",
      "   \"parents\": \"788, 125\",\n",
      "   \"platforms\": \"LANGUAGE-C++, LANGUAGE-C\",\n",
      "   \"modes\": \"Implementation\",\n",
      "   \"consequence\": \"Confidentiality\",\n",
      "   \"children\": [],\n",
      "   \"cves\": 0,\n",
      "   \"score\": 0.0\n",
      "  },\n",
      "  {\n",
      "   \"name\": \"Buffer Under-read\",\n",
      "   \"id\": \"127\",\n",
      "   \"parents\": \"125, 786\",\n",
      "   \"platforms\": \"LANGUAGE-C++, LANGUAGE-C\",\n",
      "   \"modes\": \"Implementation\",\n",
      "   \"consequence\": \"Confidentiality\",\n",
      "   \"children\": [],\n",
      "   \"cves\": 0,\n",
      "   \"score\": 0.0\n",
      "  }\n",
      " ],\n",
      " \"cves\": 551,\n",
      " \"score\": 2985.2000000000157,\n",
      " \"average\": 5.417785843920174\n",
      "}\n"
     ]
    }
   ],
   "source": [
    "print(json.dumps(random.choice(list(CWEs_weighted.values())), indent=1))"
   ]
  },
  {
   "cell_type": "markdown",
   "metadata": {},
   "source": [
    "### Top 20 CWEs based on CVE scores"
   ]
  },
  {
   "cell_type": "code",
   "execution_count": 66,
   "metadata": {
    "scrolled": false
   },
   "outputs": [
    {
     "name": "stdout",
     "output_type": "stream",
     "text": [
      " 1     72,201  Avg: 8 Improper Restriction of Operations within the Bounds of a Memory Buffer\n",
      " 2     36,999  Avg: 6 Permissions, Privileges, and Access Controls\n",
      " 3     32,430  Avg: 4 Improper Neutralization of Input During Web Page Generation ('Cross-site Scripting')\n",
      " 4     32,319  Avg: 7 Improper Neutralization of Special Elements used in an SQL Command ('SQL Injection')\n",
      " 5     30,659  Avg: 6 Improper Input Validation\n",
      " 6     19,678  Avg: 7 Resource Management Errors\n",
      " 7     19,407  Avg: 4 Information Exposure\n",
      " 8     12,827  Avg: 8 Improper Control of Generation of Code ('Code Injection')\n",
      " 9     12,329  Avg: 5 Cryptographic Issues\n",
      "10     12,200  Avg: 6 Improper Access Control\n",
      "11     12,072  Avg: 6 Improper Limitation of a Pathname to a Restricted Directory ('Path Traversal')\n",
      "12      9,933  Avg: 7 Cross-Site Request Forgery (CSRF)\n",
      "13      8,782  Avg: 7 Numeric Errors\n",
      "14      7,523  Avg: 7 Improper Authentication\n",
      "15      4,326  Avg: 6 Credentials Management\n",
      "16      3,476  Avg: 8 Use After Free\n",
      "17      2,985  Avg: 5 Out-of-bounds Read\n",
      "18      2,976  Avg: 5 7PK - Security Features\n",
      "19      2,770  Avg: 6 Concurrent Execution using Shared Resource with Improper Synchronization ('Race Condition')\n",
      "20      2,647  Avg: 8 Improper Neutralization of Special Elements used in a Command ('Command Injection')\n"
     ]
    }
   ],
   "source": [
    "top=20\n",
    "\n",
    "for i, cwe in enumerate(sorted(CWEs_weighted.values(), key=lambda k:int(k['score']), reverse=True)[:top]):\n",
    "    print('{:>2} {score:>10,.0f}  Avg: {average:.0f} {name}'.format(i+1, **cwe))\n",
    "    "
   ]
  },
  {
   "cell_type": "markdown",
   "metadata": {},
   "source": [
    "### And wireless only?"
   ]
  },
  {
   "cell_type": "code",
   "execution_count": 71,
   "metadata": {
    "scrolled": false
   },
   "outputs": [
    {
     "name": "stdout",
     "output_type": "stream",
     "text": [
      "989\n",
      " 1        501  Avg: 7 Improper Restriction of Operations within the Bounds of a Memory Buffer\n",
      " 2        347  Avg: 7 Permissions, Privileges, and Access Controls\n",
      " 3        282  Avg: 6 Improper Input Validation\n",
      " 4        245  Avg: 5 Information Exposure\n",
      " 5        222  Avg: 7 Improper Authentication\n",
      " 6        202  Avg: 7 Cross-Site Request Forgery (CSRF)\n",
      " 7        184  Avg: 6 Resource Management Errors\n",
      " 8        182  Avg: 7 Credentials Management\n",
      " 9        169  Avg: 6 Cryptographic Issues\n",
      "10        167  Avg: 4 Improper Neutralization of Input During Web Page Generation ('Cross-site Scripting')\n",
      "11         96  Avg: 6 Improper Access Control\n",
      "12         88  Avg: 5 7PK - Security Features\n",
      "13         75  Avg: 6 Improper Limitation of a Pathname to a Restricted Directory ('Path Traversal')\n",
      "14         69  Avg: 9 Improper Neutralization of Special Elements used in an OS Command ('OS Command Injection')\n",
      "15         61  Avg: 6 Numeric Errors\n",
      "16         56  Avg: 7 Configuration\n",
      "17         50  Avg: 8 Improper Neutralization of Special Elements used in a Command ('Command Injection')\n",
      "18         40  Avg: 6 Data Processing Errors\n",
      "19         29  Avg: 7 Use of Hard-coded Credentials\n",
      "20         27  Avg: 7 Improper Control of Generation of Code ('Code Injection')\n"
     ]
    }
   ],
   "source": [
    "CVEs_wireless_with_CWEs = list(filter(lambda _: _['cwe'], cve_extract_fields(CVEs_wireless)))\n",
    "CWEs_weighted_wireless = make_cwe_graph(CWEs, CVEs_wireless_with_CWEs)\n",
    "\n",
    "top=20\n",
    "\n",
    "for i, cwe in enumerate(sorted(CWEs_weighted_wireless.values(), key=lambda k:int(k['score']), reverse=True)[:top]):\n",
    "    print('{:>2} {score:>10,.0f}  Avg: {average:.0f} {name}'.format(i+1, **cwe))\n",
    "    "
   ]
  }
 ],
 "metadata": {
  "kernelspec": {
   "display_name": "Python 3",
   "language": "python",
   "name": "python3"
  },
  "language_info": {
   "codemirror_mode": {
    "name": "ipython",
    "version": 3
   },
   "file_extension": ".py",
   "mimetype": "text/x-python",
   "name": "python",
   "nbconvert_exporter": "python",
   "pygments_lexer": "ipython3",
   "version": "3.6.4"
  }
 },
 "nbformat": 4,
 "nbformat_minor": 2
}
