{
 "cells": [
  {
   "cell_type": "code",
   "execution_count": 40,
   "metadata": {},
   "outputs": [],
   "source": [
    "import pandas as pd"
   ]
  },
  {
   "cell_type": "code",
   "execution_count": 6,
   "metadata": {},
   "outputs": [],
   "source": [
    "data = pd.read_csv('~/Downloads/ProductFinder_Results_20180404.csv', low_memory=False)"
   ]
  },
  {
   "cell_type": "code",
   "execution_count": 23,
   "metadata": {},
   "outputs": [],
   "source": [
    "data['cert_year'] = data['Date of Last Certification'].transform(lambda _:_[:4])"
   ]
  },
  {
   "cell_type": "code",
   "execution_count": 55,
   "metadata": {
    "scrolled": true
   },
   "outputs": [
    {
     "data": {
      "text/plain": [
       "Brand\n",
       "7HUGS LABS                                                                 1\n",
       "Lennox International                                                       1\n",
       "Light                                                                      1\n",
       "Lumi United Technology Co., Ltd                                            1\n",
       "M-System Co., Ltd.                                                         1\n",
       "MStar Semiconductor, Inc.                                                  1\n",
       "Maipu Communication Technology Co.,Ltd.                                    1\n",
       "Maksat Technologies Private Ltd.                                           1\n",
       "LEOMO, Inc.                                                                1\n",
       "NAD Electronics International a division of Lenbrook Industries Ltd.       1\n",
       "NETCORE                                                                    1\n",
       "Newracom Inc.                                                              1\n",
       "Nice S.p.A.                                                                1\n",
       "Ningbo Fotile Kitchenware Co., Ltd.                                        1\n",
       "Nippon Antenna Co., Ltd.                                                   1\n",
       "OMRON Corporation                                                          1\n",
       "Olympus Singapore Pte. Ltd.                                                1\n",
       "NEC Personal Computers, Ltd.                                               1\n",
       "Open Mesh, Inc.                                                            1\n",
       "Joy Home Inc.                                                              1\n",
       "Grid Connect Inc.                                                          1\n",
       "Co-Comm Servicios Telecomunicaciones S.L.                                  1\n",
       "Coway Co., Ltd.                                                            1\n",
       "Daikin Industries, Ltd.                                                    1\n",
       "Danfoss A/S                                                                1\n",
       "Dangi Internet Electronics S.L.                                            1\n",
       "De'Longhi Appliances                                                       1\n",
       "Delta Faucet Company                                                       1\n",
       "Insight Energy Ventures, LLC d/b/a Powerley                                1\n",
       "EFM Networks                                                               1\n",
       "                                                                        ... \n",
       "Fujitsu Ltd.                                                             287\n",
       "Intel                                                                    289\n",
       "Microsoft                                                                300\n",
       "NETGEAR Canada                                                           324\n",
       "Canon Inc.                                                               338\n",
       "Technicolor                                                              353\n",
       "HTC Corporation                                                          361\n",
       "TCT Mobile Ltd.                                                          363\n",
       "Linksys, LLC                                                             377\n",
       "Toyota Motor Corporation                                                 385\n",
       "TCL Communication Ltd.                                                   399\n",
       "Dell Technologies                                                        424\n",
       "Top Victory Investments Ltd.                                             427\n",
       "ASUSTeK Computer Inc.                                                    441\n",
       "Sony Mobile Communications Inc.                                          472\n",
       "Brother Industries, Ltd.                                                 504\n",
       "Cisco Systems                                                            507\n",
       "Hewlett Packard Enterprise                                               515\n",
       "Toshiba                                                                  549\n",
       "Motorola Mobility LLC                                                    563\n",
       "D-Link Corporation                                                       573\n",
       "Panasonic Corporation                                                    774\n",
       "Sharp Corporation                                                       1024\n",
       "HP Inc.                                                                 1083\n",
       "ZTE Corporation                                                         1145\n",
       "Sony Corporation                                                        1673\n",
       "Lennar Ventures                                                         1766\n",
       "Huawei Technologies Co., Ltd.                                           1963\n",
       "Samsung Electronics                                                     3145\n",
       "LG Electronics                                                          6300\n",
       "Name: Brand, Length: 496, dtype: int64"
      ]
     },
     "execution_count": 55,
     "metadata": {},
     "output_type": "execute_result"
    }
   ],
   "source": [
    "data.groupby(['Brand'])['Brand'].count().sort_values()"
   ]
  },
  {
   "cell_type": "code",
   "execution_count": 56,
   "metadata": {},
   "outputs": [
    {
     "data": {
      "text/plain": [
       "CID                                                                  37282\n",
       "Date of Last Certification                                           37282\n",
       "Brand                                                                37282\n",
       "Product                                                              37281\n",
       "Model Number                                                         35584\n",
       "Product Identifier(s)                                                 4078\n",
       "Category                                                             37282\n",
       "Hardware Version                                                     18807\n",
       "Firmware Version                                                     19227\n",
       "Operating System                                                     35516\n",
       "Frequency Band(s)                                                    37224\n",
       "Wi-Fi CERTIFIED™ a (id = 1)                                          37282\n",
       "Wi-Fi CERTIFIED™ b (id = 2)                                          37282\n",
       "Wi-Fi CERTIFIED™ g (id = 3)                                          37282\n",
       "Wi-Fi CERTIFIED™ n (id = 4)                                          37282\n",
       "40 MHz operation in 2.4 GHz, with coexistence mechanisms (id = 9)    37282\n",
       "40 MHz operation in 5 GHz (id = 10)                                  37282\n",
       "Greenfield Preamble (id = 6)                                         37282\n",
       "HT Duplicate (MCS 32) (id = 11)                                      37282\n",
       "Short Guard Interval (id = 5)                                        37282\n",
       "STBC (id = 8)                                                        37282\n",
       "TX A-MPDU (id = 7)                                                   37282\n",
       "Wi-Fi CERTIFIED™ ac (id = 12)                                        37282\n",
       "160 MHz channels (id = 59)                                           37282\n",
       "256-QAM (id = 13)                                                    37282\n",
       "DL MU-MIMO (id = 58)                                                 37282\n",
       "Extended 5 GHz Channel Support (id = 60)                             37282\n",
       "LDPC (id = 21)                                                       37282\n",
       "Rx A-MPDU of A-MSDU (id = 18)                                        37282\n",
       "STBC 2x1 (id = 16)                                                   37282\n",
       "                                                                     ...  \n",
       "WMM®-Admission Control (id = 37)                                     37282\n",
       "IBSS with Wi-Fi Protected Setup™ (id = 42)                           37282\n",
       "WMM®-Power Save (id = 36)                                            37282\n",
       "Passpoint® (Release 1) (id = 43)                                     37282\n",
       "Passpoint® (Release 2) (id = 44)                                     37282\n",
       "Wi-Fi Protected Setup™ (id = 39)                                     37282\n",
       "NFC (id = 41)                                                        37282\n",
       "Push-Button (id = 40)                                                37282\n",
       "Miracast® (id = 45)                                                  37282\n",
       "Release 2 (id = 67)                                                  37282\n",
       "Content Protection (id = 68)                                         37282\n",
       "Display Device (id = 47)                                             37282\n",
       "Source Device (id = 46)                                              37282\n",
       "Voice-Enterprise (id = 49)                                           37282\n",
       "Voice-Personal (id = 48)                                             37282\n",
       "Wi-Fi Aware™ (id = 56)                                               37282\n",
       "Enhanced Power-Saving (id = 74)                                      37282\n",
       "Device Ranging (id = 75)                                             37282\n",
       "Data Transfer (id = 76)                                              37282\n",
       "Wi-Fi Location™ (id = 64)                                            37282\n",
       "Wi-Fi Direct® services - All Products (id = 50)                      37282\n",
       "CWG-RF (id = 51)                                                     37282\n",
       "802.11d (id = 52)                                                    37282\n",
       "802.11h (id = 53)                                                    37282\n",
       "BSS Max Idle Period (id = 69)                                        37282\n",
       "Proxy ARP IPv4 (id = 70)                                             37282\n",
       "IPv6 Proxy Neighbor Discovery (id = 71)                              37282\n",
       "Directed Multicast Service (id = 72)                                 37282\n",
       "Wi-Fi CERTIFIED Home Design™ (id = 66)                               37282\n",
       "cert_year                                                            37282\n",
       "Length: 84, dtype: int64"
      ]
     },
     "execution_count": 56,
     "metadata": {},
     "output_type": "execute_result"
    }
   ],
   "source": [
    "data.count()"
   ]
  }
 ],
 "metadata": {
  "kernelspec": {
   "display_name": "Python 3",
   "language": "python",
   "name": "python3"
  },
  "language_info": {
   "codemirror_mode": {
    "name": "ipython",
    "version": 3
   },
   "file_extension": ".py",
   "mimetype": "text/x-python",
   "name": "python",
   "nbconvert_exporter": "python",
   "pygments_lexer": "ipython3",
   "version": "3.6.4"
  }
 },
 "nbformat": 4,
 "nbformat_minor": 2
}
